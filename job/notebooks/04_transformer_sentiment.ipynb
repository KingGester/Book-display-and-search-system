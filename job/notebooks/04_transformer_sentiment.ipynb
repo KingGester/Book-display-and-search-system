{
 "cells": [
  {
   "cell_type": "code",
   "execution_count": null,
   "id": "786256f1",
   "metadata": {},
   "outputs": [],
   "source": [
    "import sys\n",
    "sys.path.append(\"../src\")\n",
    "\n",
    "from utils import load_dataet\n",
    "from huggingface_utils import (\n",
    "    prepare_data,\n",
    "    train_transformer_model,\n",
    "    evaluate_model\n",
    ")\n",
    "from datasets import DatasetDict\n",
    "\n",
    "# 1. بارگذاری داده\n",
    "print(\"[STEP] Loading dataset...\")\n",
    "df = load_dataet(\"../data/sentimentdataset.csv\")\n",
    "\n",
    "# 2. آماده‌سازی داده (به همراه split)\n",
    "print(\"[STEP] Preparing dataset...\")\n",
    "try:\n",
    "    train_dataset, test_dataset, label_encoder = prepare_data(df, text_col=\"Text\", label_col=\"Sentiment\")\n",
    "except ValueError as e:\n",
    "    print(\"[ERROR]\", e)\n",
    "    print(\"[INFO] Trying to clean rare classes...\")\n",
    "\n",
    "    # حذف کلاس‌هایی که کمتر از 2 نمونه دارند\n",
    "    value_counts = df[\"Sentiment\"].value_counts()\n",
    "    valid_classes = value_counts[value_counts >= 2].index\n",
    "    df = df[df[\"Sentiment\"].isin(valid_classes)]\n",
    "\n",
    "    train_dataset, test_dataset, label_encoder = prepare_data(df, text_col=\"Text\", label_col=\"Sentiment\")\n",
    "\n",
    "# 3. ساخت DatasetDict و آموزش مدل\n",
    "print(\"[STEP] Training model...\")\n",
    "dataset_dict = DatasetDict({\n",
    "    \"train\": train_dataset,\n",
    "    \"test\": test_dataset\n",
    "})\n",
    "\n",
    "trainer, tokenizer, model, test_dataset = train_transformer_model(dataset_dict, label_encoder)\n",
    "\n",
    "# 4. ارزیابی نهایی مدل\n",
    "print(\"[STEP] Evaluating model...\")\n",
    "evaluate_model(trainer, test_dataset, label_encoder)\n",
    "\n",
    "# 5. پیش‌بینی نمونه‌ای\n",
    "print(\"[STEP] Predict sample text...\")\n",
    "sample_texts = [\n",
    "    \"I absolutely loved this experience!\",\n",
    "    \"It was boring and uninteresting.\",\n",
    "    \"Not sure how I feel about it.\"\n",
    "]\n",
    "\n",
    "inputs = tokenizer(sample_texts, return_tensors=\"pt\", padding=True, truncation=True)\n",
    "outputs = model(**inputs)\n",
    "preds = outputs.logits.argmax(dim=1)\n",
    "pred_labels = [label_encoder.classes_[i] for i in preds.numpy()]\n",
    "\n",
    "for text, label in zip(sample_texts, pred_labels):\n",
    "    print(f\"\\n[{label.upper()}] → {text}\")"
   ]
  },
  {
   "cell_type": "code",
   "execution_count": null,
   "id": "d20b50e3",
   "metadata": {},
   "outputs": [
    {
     "name": "stdout",
     "output_type": "stream",
     "text": [
      "[STEP] Loading dataset...\n",
      "[STEP] Preparing dataset...\n",
      "[ERROR] The least populated class in y has only 1 member, which is too few. The minimum number of groups for any class cannot be less than 2.\n",
      "[INFO] Trying to clean rare classes...\n"
     ]
    }
   ],
   "source": [
    "print(\"[STEP] Loading dataset...\")\n",
    "df = load_dataet(\"../data/sentimentdataset.csv\")\n",
    "\n",
    "# 2. آماده‌سازی داده (به همراه split)\n",
    "print(\"[STEP] Preparing dataset...\")\n",
    "try:\n",
    "    train_dataset, test_dataset, label_encoder = prepare_data(df, text_col=\"Text\", label_col=\"Sentiment\")\n",
    "except ValueError as e:\n",
    "    print(\"[ERROR]\", e)\n",
    "    print(\"[INFO] Trying to clean rare classes...\")\n",
    "\n",
    "    # حذف کلاس‌هایی که کمتر از 2 نمونه دارند\n",
    "    value_counts = df[\"Sentiment\"].value_counts()\n",
    "    valid_classes = value_counts[value_counts >= 2].index\n",
    "    df = df[df[\"Sentiment\"].isin(valid_classes)]\n",
    "\n",
    "    train_dataset, test_dataset, label_encoder = prepare_data(df, text_col=\"Text\", label_col=\"Sentiment\")\n",
    "\n",
    "# 3. آموزش مدل DistilBERT\n",
    "\n",
    "\n"
   ]
  },
  {
   "cell_type": "code",
   "execution_count": 56,
   "id": "fac337af",
   "metadata": {},
   "outputs": [
    {
     "name": "stdout",
     "output_type": "stream",
     "text": [
      "[STEP] Training model...\n"
     ]
    },
    {
     "data": {
      "application/vnd.jupyter.widget-view+json": {
       "model_id": "1b7ec91d4a134abc87a254a907f3b8e0",
       "version_major": 2,
       "version_minor": 0
      },
      "text/plain": [
       "Map:   0%|          | 0/469 [00:00<?, ? examples/s]"
      ]
     },
     "metadata": {},
     "output_type": "display_data"
    },
    {
     "data": {
      "application/vnd.jupyter.widget-view+json": {
       "model_id": "25e8e570a05440969e68b886b599e8b9",
       "version_major": 2,
       "version_minor": 0
      },
      "text/plain": [
       "Map:   0%|          | 0/118 [00:00<?, ? examples/s]"
      ]
     },
     "metadata": {},
     "output_type": "display_data"
    },
    {
     "ename": "AttributeError",
     "evalue": "'DatasetDict' object has no attribute 'train_test_split'",
     "output_type": "error",
     "traceback": [
      "\u001b[31m---------------------------------------------------------------------------\u001b[39m",
      "\u001b[31mAttributeError\u001b[39m                            Traceback (most recent call last)",
      "\u001b[36mCell\u001b[39m\u001b[36m \u001b[39m\u001b[32mIn[56]\u001b[39m\u001b[32m, line 9\u001b[39m\n\u001b[32m      2\u001b[39m \u001b[38;5;28;01mfrom\u001b[39;00m\u001b[38;5;250m \u001b[39m\u001b[34;01mdatasets\u001b[39;00m\u001b[38;5;250m \u001b[39m\u001b[38;5;28;01mimport\u001b[39;00m DatasetDict\n\u001b[32m      4\u001b[39m combined_dataset = DatasetDict({\n\u001b[32m      5\u001b[39m     \u001b[33m\"\u001b[39m\u001b[33mtrain\u001b[39m\u001b[33m\"\u001b[39m: train_dataset,\n\u001b[32m      6\u001b[39m     \u001b[33m\"\u001b[39m\u001b[33mtest\u001b[39m\u001b[33m\"\u001b[39m: test_dataset\n\u001b[32m      7\u001b[39m })\n\u001b[32m----> \u001b[39m\u001b[32m9\u001b[39m trainer, tokenizer, model, test_dataset = \u001b[43mtrain_transformer_model\u001b[49m\u001b[43m(\u001b[49m\u001b[43mcombined_dataset\u001b[49m\u001b[43m,\u001b[49m\u001b[43m \u001b[49m\u001b[43mlabel_encoder\u001b[49m\u001b[43m)\u001b[49m\n",
      "\u001b[36mFile \u001b[39m\u001b[32mc:\\Users\\kingGester\\Desktop\\پول\\job\\notebooks\\../src\\huggingface_utils.py:50\u001b[39m, in \u001b[36mtrain_transformer_model\u001b[39m\u001b[34m(dataset, label_encoder, model_path)\u001b[39m\n\u001b[32m     48\u001b[39m preds = np.argmax(predictions, axis=\u001b[32m1\u001b[39m)\n\u001b[32m     49\u001b[39m report = classification_report(labels, preds, output_dict=\u001b[38;5;28;01mTrue\u001b[39;00m)\n\u001b[32m---> \u001b[39m\u001b[32m50\u001b[39m \u001b[38;5;28;01mreturn\u001b[39;00m {\n\u001b[32m     51\u001b[39m     \u001b[33m\"\u001b[39m\u001b[33maccuracy\u001b[39m\u001b[33m\"\u001b[39m: report[\u001b[33m\"\u001b[39m\u001b[33maccuracy\u001b[39m\u001b[33m\"\u001b[39m] \u001b[38;5;28;01mif\u001b[39;00m \u001b[33m\"\u001b[39m\u001b[33maccuracy\u001b[39m\u001b[33m\"\u001b[39m \u001b[38;5;129;01min\u001b[39;00m report \u001b[38;5;28;01melse\u001b[39;00m \u001b[32m0\u001b[39m,\n\u001b[32m     52\u001b[39m     \u001b[33m\"\u001b[39m\u001b[33mmacro_f1\u001b[39m\u001b[33m\"\u001b[39m: report[\u001b[33m\"\u001b[39m\u001b[33mmacro avg\u001b[39m\u001b[33m\"\u001b[39m][\u001b[33m\"\u001b[39m\u001b[33mf1-score\u001b[39m\u001b[33m\"\u001b[39m] \u001b[38;5;28;01mif\u001b[39;00m \u001b[33m\"\u001b[39m\u001b[33mmacro avg\u001b[39m\u001b[33m\"\u001b[39m \u001b[38;5;129;01min\u001b[39;00m report \u001b[38;5;28;01melse\u001b[39;00m \u001b[32m0\u001b[39m,\n\u001b[32m     53\u001b[39m     \u001b[33m\"\u001b[39m\u001b[33mweighted_f1\u001b[39m\u001b[33m\"\u001b[39m: report[\u001b[33m\"\u001b[39m\u001b[33mweighted avg\u001b[39m\u001b[33m\"\u001b[39m][\u001b[33m\"\u001b[39m\u001b[33mf1-score\u001b[39m\u001b[33m\"\u001b[39m] \u001b[38;5;28;01mif\u001b[39;00m \u001b[33m\"\u001b[39m\u001b[33mweighted avg\u001b[39m\u001b[33m\"\u001b[39m \u001b[38;5;129;01min\u001b[39;00m report \u001b[38;5;28;01melse\u001b[39;00m \u001b[32m0\u001b[39m\n\u001b[32m     54\u001b[39m }\n",
      "\u001b[31mAttributeError\u001b[39m: 'DatasetDict' object has no attribute 'train_test_split'"
     ]
    }
   ],
   "source": [
    "print(\"[STEP] Training model...\")\n",
    "from datasets import DatasetDict\n",
    "\n",
    "combined_dataset = DatasetDict({\n",
    "    \"train\": train_dataset,\n",
    "    \"test\": test_dataset\n",
    "})\n",
    "\n",
    "trainer, tokenizer, model, test_dataset = train_transformer_model(combined_dataset, label_encoder)\n"
   ]
  },
  {
   "cell_type": "code",
   "execution_count": null,
   "id": "cdaba20a",
   "metadata": {},
   "outputs": [
    {
     "ename": "NameError",
     "evalue": "name 'label_encoder' is not defined",
     "output_type": "error",
     "traceback": [
      "\u001b[31m---------------------------------------------------------------------------\u001b[39m",
      "\u001b[31mNameError\u001b[39m                                 Traceback (most recent call last)",
      "\u001b[36mCell\u001b[39m\u001b[36m \u001b[39m\u001b[32mIn[11]\u001b[39m\u001b[32m, line 1\u001b[39m\n\u001b[32m----> \u001b[39m\u001b[32m1\u001b[39m trainer, tokenizer, model, test_dataset = train_transformer_model(df, \u001b[43mlabel_encoder\u001b[49m)\n",
      "\u001b[31mNameError\u001b[39m: name 'label_encoder' is not defined"
     ]
    }
   ],
   "source": [
    "# 4. ارزیابی نهایی مدل\n",
    "print(\"[STEP] Evaluating model...\")\n",
    "evaluate_model(trainer, test_dataset, label_encoder)\n",
    "\n",
    "# 5. استفاده نمونه‌ای\n",
    "print(\"[STEP] Predict sample text...\")\n",
    "sample_texts = [\n",
    "    \"I absolutely loved this experience!\",\n",
    "    \"It was boring and uninteresting.\",\n",
    "    \"Not sure how I feel about it.\"\n",
    "]\n"
   ]
  },
  {
   "cell_type": "code",
   "execution_count": null,
   "id": "2e95d300",
   "metadata": {},
   "outputs": [],
   "source": []
  },
  {
   "cell_type": "code",
   "execution_count": null,
   "id": "cbe56402",
   "metadata": {},
   "outputs": [],
   "source": []
  }
 ],
 "metadata": {
  "kernelspec": {
   "display_name": "Python 3",
   "language": "python",
   "name": "python3"
  },
  "language_info": {
   "codemirror_mode": {
    "name": "ipython",
    "version": 3
   },
   "file_extension": ".py",
   "mimetype": "text/x-python",
   "name": "python",
   "nbconvert_exporter": "python",
   "pygments_lexer": "ipython3",
   "version": "3.13.undefined"
  }
 },
 "nbformat": 4,
 "nbformat_minor": 5
}
